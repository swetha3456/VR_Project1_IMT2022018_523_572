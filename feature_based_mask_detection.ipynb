{
  "cells": [
    {
      "cell_type": "markdown",
      "metadata": {
        "id": "5NJz2UFjU4mj"
      },
      "source": [
        "## Cloning the dataset"
      ]
    },
    {
      "cell_type": "code",
      "execution_count": 1,
      "metadata": {
        "colab": {
          "base_uri": "https://localhost:8080/"
        },
        "id": "j5YVu2t7TYZI",
        "outputId": "5ba839c2-cd60-48d1-85c7-e27bf9626206"
      },
      "outputs": [
        {
          "output_type": "stream",
          "name": "stdout",
          "text": [
            "Cloning into 'Face-Mask-Detection'...\n",
            "remote: Enumerating objects: 4590, done.\u001b[K\n",
            "remote: Total 4590 (delta 0), reused 0 (delta 0), pack-reused 4590 (from 1)\u001b[K\n",
            "Receiving objects: 100% (4590/4590), 186.72 MiB | 15.01 MiB/s, done.\n",
            "Resolving deltas: 100% (271/271), done.\n",
            "Updating files: 100% (4155/4155), done.\n"
          ]
        }
      ],
      "source": [
        "!git clone https://github.com/chandrikadeb7/Face-Mask-Detection.git"
      ]
    },
    {
      "cell_type": "code",
      "execution_count": 2,
      "metadata": {
        "colab": {
          "base_uri": "https://localhost:8080/"
        },
        "id": "5FpumJuJTbi_",
        "outputId": "c1aa3488-c117-49b6-8ccc-e9296da753bd"
      },
      "outputs": [
        {
          "output_type": "stream",
          "name": "stdout",
          "text": [
            "/content/Face-Mask-Detection/dataset\n"
          ]
        }
      ],
      "source": [
        "%cd Face-Mask-Detection/dataset"
      ]
    },
    {
      "cell_type": "code",
      "execution_count": 3,
      "metadata": {
        "colab": {
          "base_uri": "https://localhost:8080/"
        },
        "id": "Sd9m_vbOT17a",
        "outputId": "ce8eea71-0129-4ba8-feca-8beabda41f39"
      },
      "outputs": [
        {
          "output_type": "stream",
          "name": "stdout",
          "text": [
            "2166\n"
          ]
        }
      ],
      "source": [
        "!ls with_mask -l | wc -l"
      ]
    },
    {
      "cell_type": "code",
      "execution_count": 4,
      "metadata": {
        "colab": {
          "base_uri": "https://localhost:8080/"
        },
        "id": "WiLPrqsTUHGN",
        "outputId": "cbcb6d63-b8df-470c-c13c-c5d0670c7600"
      },
      "outputs": [
        {
          "output_type": "stream",
          "name": "stdout",
          "text": [
            "1931\n"
          ]
        }
      ],
      "source": [
        "!ls without_mask -l | wc -l"
      ]
    },
    {
      "cell_type": "code",
      "execution_count": 5,
      "metadata": {
        "colab": {
          "base_uri": "https://localhost:8080/"
        },
        "id": "-KPjulI2VvnA",
        "outputId": "0fef9c4d-376a-4b45-8e27-df6ec09bfa22"
      },
      "outputs": [
        {
          "output_type": "stream",
          "name": "stdout",
          "text": [
            "/content\n"
          ]
        }
      ],
      "source": [
        "%cd /content/"
      ]
    },
    {
      "cell_type": "code",
      "execution_count": 6,
      "metadata": {
        "id": "iMXRaqKEdjRD"
      },
      "outputs": [],
      "source": [
        "import os\n",
        "import cv2\n",
        "import numpy as np\n",
        "from sklearn.model_selection import train_test_split\n",
        "from skimage.feature import hog, local_binary_pattern\n",
        "from sklearn.preprocessing import StandardScaler\n",
        "\n",
        "dataset_path = \"Face-Mask-Detection/dataset/\"\n",
        "\n",
        "def extract_features(image):\n",
        "    image = cv2.resize(image, (128, 128))\n",
        "\n",
        "    # HOG\n",
        "    hog_feat = hog(image, orientations=9, pixels_per_cell=(8, 8), cells_per_block=(2, 2), block_norm='L2-Hys', visualize=False)\n",
        "    # LBP\n",
        "    lbp = local_binary_pattern(image, P=8, R=1, method='uniform')\n",
        "    lbp_hist, _ = np.histogram(lbp.ravel(), bins=np.arange(0, 11), density=True)\n",
        "\n",
        "    # Combine HOG + LBP hist\n",
        "    features = np.hstack((hog_feat, lbp_hist))\n",
        "    return features\n",
        "\n",
        "# Load dataset\n",
        "X = []\n",
        "y = []\n",
        "\n",
        "for label, category in enumerate(['with_mask/', 'without_mask/']):\n",
        "    for filename in os.listdir(dataset_path + category):\n",
        "        img_path = dataset_path + category + filename\n",
        "        img = cv2.imread(img_path, cv2.IMREAD_GRAYSCALE)\n",
        "        features = extract_features(img)\n",
        "        X.append(features)\n",
        "        y.append(label)\n",
        "\n",
        "# Convert to NumPy arrays\n",
        "X = np.array(X)\n",
        "y = np.array(y)\n",
        "\n",
        "# Normalize features (recommended)\n",
        "scaler = StandardScaler()\n",
        "X = scaler.fit_transform(X)\n",
        "\n",
        "# Train-test split\n",
        "X_train, X_test, y_train, y_test = train_test_split(X, y, test_size=0.2, stratify=y, random_state=42)"
      ]
    },
    {
      "cell_type": "code",
      "execution_count": 7,
      "metadata": {
        "colab": {
          "base_uri": "https://localhost:8080/"
        },
        "id": "vEz0hN8Pfy6n",
        "outputId": "1c730148-0165-48ea-cff3-05925e07b706"
      },
      "outputs": [
        {
          "output_type": "stream",
          "name": "stdout",
          "text": [
            "Accuracy: 91.33%\n"
          ]
        }
      ],
      "source": [
        "# SVM\n",
        "from sklearn.svm import SVC\n",
        "from sklearn.metrics import accuracy_score, classification_report, confusion_matrix\n",
        "\n",
        "# Train SVM\n",
        "svm = SVC(kernel='poly', C=1.0, random_state=42)\n",
        "svm.fit(X_train, y_train)\n",
        "\n",
        "# Predict on test set\n",
        "y_pred = svm.predict(X_test)\n",
        "\n",
        "# Accuracy\n",
        "accuracy = accuracy_score(y_test, y_pred)\n",
        "print(f\"Accuracy: {accuracy * 100:.2f}%\")"
      ]
    },
    {
      "cell_type": "code",
      "execution_count": 9,
      "metadata": {
        "colab": {
          "base_uri": "https://localhost:8080/"
        },
        "id": "2btlNGUYf6A5",
        "outputId": "b14218cd-1fac-4076-9b18-317022d7ad30"
      },
      "outputs": [
        {
          "output_type": "stream",
          "name": "stdout",
          "text": [
            "Accuracy: 92.67%\n"
          ]
        }
      ],
      "source": [
        "# XGBoost\n",
        "from xgboost import XGBClassifier\n",
        "from sklearn.metrics import accuracy_score, classification_report, confusion_matrix\n",
        "\n",
        "# Train XGBoost Classifier\n",
        "xgb = XGBClassifier(eval_metric='mlogloss', random_state=42)\n",
        "xgb.fit(X_train, y_train)\n",
        "\n",
        "# Predict on test set\n",
        "y_pred = xgb.predict(X_test)\n",
        "\n",
        "# Accuracy\n",
        "accuracy = accuracy_score(y_test, y_pred)\n",
        "print(f\"Accuracy: {accuracy * 100:.2f}%\")"
      ]
    }
  ],
  "metadata": {
    "colab": {
      "provenance": []
    },
    "kernelspec": {
      "display_name": "Python 3",
      "name": "python3"
    },
    "language_info": {
      "name": "python"
    }
  },
  "nbformat": 4,
  "nbformat_minor": 0
}